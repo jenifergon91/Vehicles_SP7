{
 "cells": [
  {
   "cell_type": "code",
   "execution_count": null,
   "id": "15230a89",
   "metadata": {},
   "outputs": [
    {
     "ename": "",
     "evalue": "",
     "output_type": "error",
     "traceback": [
      "\u001b[1;31mRunning cells with 'vehicles_env (Python 3.13.5)' requires the ipykernel package.\n",
      "\u001b[1;31m<a href='command:jupyter.createPythonEnvAndSelectController'>Create a Python Environment</a> with the required packages.\n",
      "\u001b[1;31mOr install 'ipykernel' using the command: 'conda install -n vehicles_env ipykernel --update-deps --force-reinstall'"
     ]
    }
   ],
   "source": [
    "import pandas as pd\n",
    "\n",
    "# Cargar de datos \n",
    "car_data = pd.read_csv('vehicles_us.csv')\n",
    "\n",
    "# Mostrar las primeras filas del DataFrame para verificar la carga\n",
    "print(car_data.head())"
   ]
  },
  {
   "cell_type": "code",
   "execution_count": null,
   "id": "8329ff6b",
   "metadata": {},
   "outputs": [],
   "source": []
  }
 ],
 "metadata": {
  "kernelspec": {
   "display_name": "vehicles_env",
   "language": "python",
   "name": "python3"
  },
  "language_info": {
   "name": "python",
   "version": "3.13.5"
  }
 },
 "nbformat": 4,
 "nbformat_minor": 5
}
